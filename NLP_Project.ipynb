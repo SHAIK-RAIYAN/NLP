{
  "cells": [
    {
      "cell_type": "code",
      "execution_count": null,
      "metadata": {
        "colab": {
          "base_uri": "https://localhost:8080/"
        },
        "id": "xTjj_3IJwu7T",
        "outputId": "5acf177a-0776-4d75-b163-3fd2ffbf64d0"
      },
      "outputs": [
        {
          "output_type": "stream",
          "name": "stdout",
          "text": [
            "Requirement already satisfied: SpeechRecognition in /usr/local/lib/python3.10/dist-packages (3.11.0)\n",
            "Requirement already satisfied: googletrans==4.0.0-rc1 in /usr/local/lib/python3.10/dist-packages (4.0.0rc1)\n",
            "Requirement already satisfied: gtts in /usr/local/lib/python3.10/dist-packages (2.5.3)\n",
            "Requirement already satisfied: pydub in /usr/local/lib/python3.10/dist-packages (0.25.1)\n",
            "Requirement already satisfied: httpx==0.13.3 in /usr/local/lib/python3.10/dist-packages (from googletrans==4.0.0-rc1) (0.13.3)\n",
            "Requirement already satisfied: certifi in /usr/local/lib/python3.10/dist-packages (from httpx==0.13.3->googletrans==4.0.0-rc1) (2024.8.30)\n",
            "Requirement already satisfied: hstspreload in /usr/local/lib/python3.10/dist-packages (from httpx==0.13.3->googletrans==4.0.0-rc1) (2024.10.1)\n",
            "Requirement already satisfied: sniffio in /usr/local/lib/python3.10/dist-packages (from httpx==0.13.3->googletrans==4.0.0-rc1) (1.3.1)\n",
            "Requirement already satisfied: chardet==3.* in /usr/local/lib/python3.10/dist-packages (from httpx==0.13.3->googletrans==4.0.0-rc1) (3.0.4)\n",
            "Requirement already satisfied: idna==2.* in /usr/local/lib/python3.10/dist-packages (from httpx==0.13.3->googletrans==4.0.0-rc1) (2.10)\n",
            "Requirement already satisfied: rfc3986<2,>=1.3 in /usr/local/lib/python3.10/dist-packages (from httpx==0.13.3->googletrans==4.0.0-rc1) (1.5.0)\n",
            "Requirement already satisfied: httpcore==0.9.* in /usr/local/lib/python3.10/dist-packages (from httpx==0.13.3->googletrans==4.0.0-rc1) (0.9.1)\n",
            "Requirement already satisfied: h11<0.10,>=0.8 in /usr/local/lib/python3.10/dist-packages (from httpcore==0.9.*->httpx==0.13.3->googletrans==4.0.0-rc1) (0.9.0)\n",
            "Requirement already satisfied: h2==3.* in /usr/local/lib/python3.10/dist-packages (from httpcore==0.9.*->httpx==0.13.3->googletrans==4.0.0-rc1) (3.2.0)\n",
            "Requirement already satisfied: hyperframe<6,>=5.2.0 in /usr/local/lib/python3.10/dist-packages (from h2==3.*->httpcore==0.9.*->httpx==0.13.3->googletrans==4.0.0-rc1) (5.2.0)\n",
            "Requirement already satisfied: hpack<4,>=3.0 in /usr/local/lib/python3.10/dist-packages (from h2==3.*->httpcore==0.9.*->httpx==0.13.3->googletrans==4.0.0-rc1) (3.0.0)\n",
            "Requirement already satisfied: requests>=2.26.0 in /usr/local/lib/python3.10/dist-packages (from SpeechRecognition) (2.32.3)\n",
            "Requirement already satisfied: typing-extensions in /usr/local/lib/python3.10/dist-packages (from SpeechRecognition) (4.12.2)\n",
            "Requirement already satisfied: click<8.2,>=7.1 in /usr/local/lib/python3.10/dist-packages (from gtts) (8.1.7)\n",
            "Requirement already satisfied: charset-normalizer<4,>=2 in /usr/local/lib/python3.10/dist-packages (from requests>=2.26.0->SpeechRecognition) (3.4.0)\n",
            "Requirement already satisfied: urllib3<3,>=1.21.1 in /usr/local/lib/python3.10/dist-packages (from requests>=2.26.0->SpeechRecognition) (2.2.3)\n"
          ]
        }
      ],
      "source": [
        "!pip install SpeechRecognition googletrans==4.0.0-rc1 gtts pydub"
      ]
    },
    {
      "cell_type": "code",
      "execution_count": null,
      "metadata": {
        "colab": {
          "base_uri": "https://localhost:8080/"
        },
        "id": "PhnG9OsrwxqT",
        "outputId": "166b3e97-98c0-4757-d2ce-5cc09d08c38a"
      },
      "outputs": [
        {
          "output_type": "stream",
          "name": "stdout",
          "text": [
            "Reading package lists... Done\n",
            "Building dependency tree... Done\n",
            "Reading state information... Done\n",
            "ffmpeg is already the newest version (7:4.4.2-0ubuntu0.22.04.1).\n",
            "0 upgraded, 0 newly installed, 0 to remove and 49 not upgraded.\n"
          ]
        }
      ],
      "source": [
        "!apt-get install ffmpeg"
      ]
    },
    {
      "cell_type": "code",
      "source": [
        "import numpy as np\n",
        "import pandas as pd\n",
        "import os\n",
        "from google.colab import drive\n",
        "from sklearn.preprocessing import OneHotEncoder\n",
        "import librosa\n",
        "import librosa.display\n",
        "import matplotlib.pyplot as plt\n",
        "import seaborn as sns\n",
        "import warnings\n",
        "from keras.models import load_model\n",
        "from keras.models import Sequential\n",
        "from keras.layers import Dense, LSTM, Dropout\n",
        "from IPython.display import Audio, display\n",
        "import speech_recognition as sr\n",
        "from googletrans import Translator\n",
        "from gtts import gTTS\n",
        "from pydub import AudioSegment"
      ],
      "metadata": {
        "id": "KU-HYekL7onx"
      },
      "execution_count": null,
      "outputs": []
    },
    {
      "cell_type": "code",
      "execution_count": null,
      "metadata": {
        "colab": {
          "base_uri": "https://localhost:8080/"
        },
        "id": "RWg4QGaxwDFK",
        "outputId": "9557aab5-f861-4d78-87ac-11a0f01fd97a"
      },
      "outputs": [
        {
          "output_type": "stream",
          "name": "stdout",
          "text": [
            "Drive already mounted at /content/drive; to attempt to forcibly remount, call drive.mount(\"/content/drive\", force_remount=True).\n"
          ]
        },
        {
          "output_type": "stream",
          "name": "stderr",
          "text": [
            "WARNING:absl:Compiled the loaded model, but the compiled metrics have yet to be built. `model.compile_metrics` will be empty until you train or evaluate the model.\n"
          ]
        }
      ],
      "source": [
        "# Suppress warnings\n",
        "warnings.filterwarnings('ignore')\n",
        "\n",
        "# Mount Google Drive\n",
        "drive.mount('/content/drive')\n",
        "\n",
        "# Load the emotion recognition model\n",
        "emotion_model = load_model('/content/drive/MyDrive/emotion_model.h5')\n",
        "\n",
        "# Emotion labels (adjust based on your dataset)\n",
        "emotion_labels = ['angry', 'disgust', 'fear', 'happy', 'neutral', 'sad', 'surprise']\n",
        "\n",
        "# Initialize translator and speech recognizer\n",
        "recognizer = sr.Recognizer()\n",
        "translator = Translator()\n",
        "\n",
        "LANGUAGES = {\n",
        "    'en': 'English',\n",
        "    'zh-cn': 'Mandarin Chinese',\n",
        "    'hi': 'Hindi',\n",
        "    'es': 'Spanish',\n",
        "    'fr': 'French',\n",
        "    'ar': 'Arabic',\n",
        "    'it': 'Italian',\n",
        "    'ru': 'Russian',\n",
        "    'pt': 'Portuguese',\n",
        "    'de': 'German',\n",
        "    'ja': 'Japanese'\n",
        "}\n"
      ]
    },
    {
      "cell_type": "code",
      "source": [
        "\n",
        "# Function to extract MFCC features\n",
        "def extract_mfcc(filename):\n",
        "    y, sr = librosa.load(filename, duration=3, offset=0.5)\n",
        "    mfcc = np.mean(librosa.feature.mfcc(y=y, sr=sr, n_mfcc=40).T, axis=0)\n",
        "    return mfcc.reshape(1, 40, 1)\n",
        "\n",
        "def predict_and_print_emotion(audio_path):\n",
        "    mfcc = extract_mfcc(audio_path)\n",
        "    prediction = emotion_model.predict(mfcc)\n",
        "    emotion = emotion_labels[np.argmax(prediction)]\n",
        "    print(f\"Detected Emotion: {emotion}\")\n",
        "    return emotion\n",
        "\n",
        "# Function to display audio and exit\n",
        "def display_audio_and_exit(file_path):\n",
        "    print(\"\\nHere is the translated audio:\")\n",
        "    display(Audio(file_path))\n",
        "    print(\"Goodbye!\")\n",
        "    raise SystemExit\n",
        "\n",
        "# Function to translate text and generate audio\n",
        "def translate_and_generate_audio(text, target_lang):\n",
        "    translated_text = translator.translate(text, dest=target_lang).text\n",
        "    print(f\"Translated Text: {translated_text}\")\n",
        "\n",
        "    tts = gTTS(text=translated_text, lang=target_lang)\n",
        "    audio_path = \"response.mp3\"\n",
        "    tts.save(audio_path)\n",
        "\n",
        "    display_audio_and_exit(audio_path)\n",
        "\n",
        "# Function to translate from MP3 file\n",
        "def translate_from_mp3(file_path, target_lang):\n",
        "    audio = AudioSegment.from_mp3(file_path)\n",
        "    # Explicitly convert to mono before exporting\n",
        "    audio = audio.set_channels(1)  # Force mono audio\n",
        "    audio.export(\"temp.wav\", format=\"wav\")\n",
        "\n",
        "    with sr.AudioFile(\"temp.wav\") as source:\n",
        "        audio_data = recognizer.record(source)\n",
        "        text = recognizer.recognize_google(audio_data)\n",
        "        print(f\"Recognized from MP3: {text}\")\n",
        "\n",
        "        translate_and_generate_audio(text, target_lang)\n",
        "\n",
        "# Function for real-time speech recognition and translation\n",
        "def recognize_and_translate(target_lang):\n",
        "    print(\"Listening for real-time translation...\")\n",
        "    with sr.Microphone() as source:\n",
        "        recognizer.adjust_for_ambient_noise(source)\n",
        "        audio = recognizer.listen(source, timeout=5, phrase_time_limit=5)\n",
        "        text = recognizer.recognize_google(audio)\n",
        "        print(f\"Recognized: {text}\")\n",
        "\n",
        "        translate_and_generate_audio(text, target_lang)\n"
      ],
      "metadata": {
        "id": "eFw18A0B7vjM"
      },
      "execution_count": null,
      "outputs": []
    },
    {
      "cell_type": "code",
      "source": [
        "\n",
        "# Main menu function\n",
        "def main_menu():\n",
        "    print(\"Welcome to the Real-time and MP3 Translation System\")\n",
        "\n",
        "    while True:\n",
        "        print(\"\\nPlease choose a destination language:\")\n",
        "        for code, language in LANGUAGES.items():\n",
        "            print(f\"'{code}' for {language}\")\n",
        "\n",
        "        target_lang = input(\"Enter the language code: \").strip().lower()\n",
        "\n",
        "        if target_lang not in LANGUAGES:\n",
        "            print(\"Invalid language code. Please try again.\")\n",
        "            continue\n",
        "\n",
        "        print(\"\\nChoose an input method:\")\n",
        "        print(\"1. Real-time voice translation\")\n",
        "        print(\"2. Translate from MP3 file\")\n",
        "        print(\"3. Predict emotion from audio file\")\n",
        "        print(\"4. Exit\")\n",
        "\n",
        "        choice = input(\"Enter your choice (1, 2, 3, or 4): \")\n",
        "\n",
        "        if choice == '1':\n",
        "            print(\"\\nYou selected real-time voice translation.\")\n",
        "            recognize_and_translate(target_lang)\n",
        "        elif choice == '2':\n",
        "            file_path = input(\"\\nEnter the MP3 file path: \")\n",
        "            translate_from_mp3(file_path, target_lang)\n",
        "        elif choice == '3':\n",
        "            audio_path = input(\"\\nEnter the audio file path: \")\n",
        "            predict_emotion(audio_path)\n",
        "        elif choice == '4':\n",
        "            print(\"Exiting the program. Goodbye!\")\n",
        "            break\n",
        "        else:\n",
        "            print(\"Invalid choice. Please select a valid option.\")\n",
        "\n",
        "# Run the program\n",
        "main_menu()\n"
      ],
      "metadata": {
        "colab": {
          "base_uri": "https://localhost:8080/",
          "height": 716
        },
        "id": "0koli0p271tJ",
        "outputId": "785d0ee4-4092-4209-d146-89e163fd7010"
      },
      "execution_count": null,
      "outputs": [
        {
          "output_type": "stream",
          "name": "stdout",
          "text": [
            "Welcome to the Real-time and MP3 Translation System\n",
            "\n",
            "Please choose a destination language:\n",
            "'en' for English\n",
            "'zh-cn' for Mandarin Chinese\n",
            "'hi' for Hindi\n",
            "'es' for Spanish\n",
            "'fr' for French\n",
            "'ar' for Arabic\n",
            "'it' for Italian\n",
            "'ru' for Russian\n",
            "'pt' for Portuguese\n",
            "'de' for German\n",
            "'ja' for Japanese\n",
            "Enter the language code: hi\n",
            "\n",
            "Choose an input method:\n",
            "1. Real-time voice translation\n",
            "2. Translate from MP3 file\n",
            "3. Predict emotion from audio file\n",
            "4. Exit\n",
            "Enter your choice (1, 2, 3, or 4): 2\n",
            "\n",
            "Enter the MP3 file path: /content/03-01-05-01-01-02-02.wav\n",
            "Recognized from MP3: kids are talking by the door\n",
            "Translated Text: बच्चे दरवाजे से बात कर रहे हैं\n",
            "\n",
            "Here is the translated audio:\n"
          ]
        },
        {
          "output_type": "display_data",
          "data": {
            "text/plain": [
              "<IPython.lib.display.Audio object>"
            ],
            "text/html": [
              "\n",
              "                <audio  controls=\"controls\" >\n",
              "                    <source src=\"data:audio/mpeg;base64,//OExAAAAAAAAAAAAAAAAAAAAAAAAAAAAAAAAAAAAAAAAAAAAAAAAAAAAAAAAAAAAAAAAAAAAAAAAAAAAAAAAAAAAAAAAAAAAAAAAAAAAAAAAAAAAAAAAAAAAAAAAAAAAAAAAAAAAAAAAAAAAAAAAAAAAAAAAAAAAAAAAAAAAAAAAAAAAAAAAAAAAAAAAAAAAAAAAAAAAAAAAAAAAAAAAAAAAAAAAAAAAAAAAAAAAAAAAAAAAAAAAAAAAAAAAAAA//OExAAmk7IMAHsG3SSM7gXMBQC5FGCoO8eg8EPj3w8iMbJV/Ho2vuvMDAwMDA84qAcLa87MzMzMzM/WLHGHJYWdq9/ObjWb183KUpS973vdu9+mlKUpTP1tfeWwNyiEiIhO57ue6IEEUXELff93RPn/wkTiIe77ubgCFERER3d3c+ohaeiPE3NCN367n1P0LiHu57iz4iIWhYc8PDwwAAPEf/5jvcIVMBgIwwDzJIGNwUI2QjTrdJM7kYxcAy8Z//OExBgpM94wAOMK3IQBBaBaK/5qVuPT5y2zRYLDWjPI4CoWBDEd5pBGSAfmDm3tRZ0OM3t1XfYuwlXKywiahYpnfN5n+vSZ5it7Ub/VhXjbXRLGcaY5DrFC5leliMeOY6MnNq9mnU5yI7pvztUjHW7G/fSZGkKSoxmcfoh1lSqKZf99VO6szqH3nV3ExwmJCiq+QBAI0PuTqQAASYEoDRgNAXmEGP4Y+SnJk/hoGA2AuYBIEBgCAckQLqabkGAc//OExCYuY3pAAPYKvQbGCAAdDsoghJhLBz42zxTSGb7cEAEecdhJv2BQQmPQzBT3S2++9NUhyYlkbyx+vSSjeFXK9Wmb8w/k5hYpKtHZwt4YUnztPy/yuQOCogYhxUXOHCAzjFh8ajHEHIRVcYwgiFQ12JfdezdLoYlJu/oz/ad6Mm7dn6O53uirOvr/+Ul6Kwunj+khzVqzM9odmuf9ndVFUMAXMA4BYwbxKzZxUWMIMAYwRACTAJAMMAQLIuKk//OExB8sWdpEAPZSmKtSMAwFoKgGtAbEh1MsClaDBZd9WGNTyiiCWO114D6idM5MszZbR1reM1S1quEtwobDtzsN3LUPQ+6AaA8HigTeWVFw+KKKol0T4oBfoXzSls0TiDpMKq0RxnCVxUPwgk9aCco9rI4tUGx+lJkFRAwcsYiLH4gaSLPIteyE5kUFhjjb+ltWkAgIUeRsWLCljWehSl/KhCoGRgrCEmhsHeYOwL4CAOAgBxgPgjjwRBgTgPmA//OExCAqqdpQAPZMmWAEAEG5NJPt2ATCiarx/5Sv3jM2+eNV8BwaWaaizuTwizD9Sdh92IzPzF6/vfKm5veFLSd0xoUc6dkCD0/3GymL2jsiptoZ2tioL2Y2O9GZu5fjvZhFO9iD6IE+EdlZxbX/h/vu//1fV2f5//nrmeHX86/WvkntA3AB82kZ7JlzJ9iNyfnhmkwRtM2dBgGWyGBACusy2HkJ5gQDmKQaZ5T4IIQGH5kQdnAayb7J8cXaCgW8//OExCgwa254AOZUvOCkG3EQJurl40hkbSwccprbsiIBxCIahD+sbS+Ncte7AGB2843m4DE5H2adyHPqSV+LMqkENz8keRTNSylf+SQ5Scwr8qYZ50+W+k7licw81x4PzlHwIBASkQXh6KREjNPQw8xyQRZGIAVhoRDweGGb27JVG////0t+tTzh4Yee7TS48JEanT/WsxiM88+ehaHgsmMW1zP5wTrBvYylUYMWjcn4TTMEBcavTW2fLTMaQc2K//OExBksm1aIAOaOvDNa7LAAFTvlCJZAzzgBKaAsUAHbZyMhg4G1qVl9Qg6t+akzqk0pWB/6q7QEHbekjLlNcs346+kUtTMhhvsNOVDrL4m86YrJ5XR0FW/+WcYw19/HaHK7FTBuhpAXEDx8JQJA4ALMPHD3mHmMqIw6aNx4ujkKkCZ5NE56Z//////+xxqo8amGjppq1//9DkNHxEBFmGKJ1//Y/RXtFbawAj4DTkibGOhRsAMgdBy+hShM8jh4//OExBksS3aMAN6OvLH6T+Mc5DwENS2GQoRBzCKafYEhF3yPB9k5o318QINATEIBxvG+CQyjFLQuy+Tly/GGaS1r603fpqa1PxhrLut2lsbp8qWn/PG9ve7lGaXQshUcMEoXDUqDwmKioUGh5zF1PKHsynFbi+SQbDp5Q8Ug/Qxihjmf/+n///qf////zFHRywXMJsWJog5Ep4iLCiXrtp0xdxIIKvm6cRgJgqCCt1JNni+DJ4QysTWEcoxBDNsd//OExBosJAqMANvQ3cSXWPyyUoNNvTR1K2K35gE+MaJmQ7kGxzMS+urNaoBdBuJeCxHMqsZ1XW/l7AjWTrKytqh1lFSwOwtkGm22nxb13ryzxfZ9f02wcjmCQA7GUQPrZGq80qVGALBFFoIQRCCYIxgtKIp78cJxMdc//////Hz//3Pdyn9ddP3PPd+ltdQnPFxb1ZqaXH1a98w/UT8XX0xN0dqsUAVXGShnu8m6HG9LDoA1sQxwgyIZJVYRAdMN//OExBwuVBJoANPQ3UrL6wa7Cm0/SV0+vLEV0ObemKPeLa72SOrATR4GVKwvfi1v819dWz/bf3BiJ6aNnVrW3r/2t8W+devrXmViaBUJwamVrVrys00FMx1yqMNNJFRyqgdA2OVUJFa7vZuVJVV+4YWOZmZTVpVFVVmKOYpmaGleV/9VWpVoFha+IDoVFRU1ala4bbWG5VRUVU1WYWOtjrgk1VyRVTYqLIKqYWc4DYSEBEEkEXV6lUIjMWpaWgtS//OExBUnA7pEAMjM3dsZ01uz5u8SXLnNDPqJNT/ikecEYQt26Ti4LiAizpMCJEujkDleuYhb2nknlDCn1EnWLLQe8C2QgysT2zGYsyXQ2giWBFBei00+WQQiNhV6VimIGDJUZGE08fVb7a/z2aWsxCBe9se9IRcPN2z77owyLtfu53WMIX+Yg8Hlj34gKCKOtC2cFBmNJljjssVVtos7NzCmucwrZ8y7j1mTkXyHRlqv2vM6KjlkjyIio8QQwspA//OExCwoI+ZIAMlS3fONOLsfcx3CAxR6IECjSc0wcUY56CkXHhIjn25EC5SkiCl1VyRhuOQli2MVNxKosgebltz1qoZCsm0ijB7ldqRM3tdrXSUpl2sX2tKM5DennlGFwr1/id5fhU4XdSluxlCM2VcqORlL7XyGR21bq174inb7uggovRdky7oU6DGFJk1Ju7X3H/viPimVy97/5v5u2VaCL2PhA6vJukaDsNyOTORvL+TQeDryIDg6P4eEyHWB//OExD4x695gAIre3QyOOgXmWxINWNRkjrYTTIAZI8GdjHwhCGF8EMZTcaCVqqums0zrJwmmyGuHGFqrxSOo1bt7HCLe0sDji8elGe7/LPAcH9Zo8OHul/er/N7x9WiPIkCBTOdsb1ngXkpJrdm9nnpqr/w3+6fM7ZrUfHzd/H3jFY9/fGaU1fPzfe8ZjtI130pGSKQwfQHRCCwLU8153//zffZ19/9zGbKOZjDjkao2jBITdEKKiTUfe6WlpdLh//OExCkmM5pwAFFYvGXKcVSyPI+usWLoYjkqoUSaiQj4voRcDM8BIk4c6Rx8LRlE6RjGIusUeZn9a986PTqBvoDpR14K91KZdL0Lv26afV+rcWsWuxFTa09zF21Yjrq3L2nerNLRzmdN3enWNnbT+zuTASOyFrBxPQVXNmUGIp9GPq6N9T+p1O+f97oSjVchFdGOcTFFcjOMZ0Gi5BMDmIsTv1IrJUglJy5m4hE0Mg6XNxtFwSjHGbWeI82p1fDV//OExEMkq16AABFevPTqyJZjjOG6sauYK6Z7x2JDHmfurHv4zSkB5WlIn3eb0pSt63o8iZzfG933TV6XvjHpE1jO//Su6a3jGf94p///vN476YssPnHn8PsW0nEaNrJImdmru/7uJ7nmu44/4ZddsbNn1Fj7q1T9LJIEwrJw+MfRueOZoTywrG8fx1jyQQEAHTMPyZMKViQIQD7XzpZBuaVA3JSURT5aWd2rKR4LO2nXIp1ezHI1xWRGVqfkkRQR//OExGMvO+KYAAre3eE9Z43eSv40aH05FvLPF1Hf4Xavjsb+I34iJxCLUpeeGz5tEbGSeRgZJW9z3fDZErd/CiQJ83vTV8UvrOK3zSBj/0+PS+/H34ETVIkSt94zresx+f4Gnzk4AcXxqxfENFzW82YHmZ8f++P9fX76q66utzM+hMpozooJsflMwUcEbMCmXh/QL59CaoupBZiHKI49hGgT0cQHqJsJuC0g0BsBkGxZdJoipT4xPTJMjgQE7heE//OExFktk7aoAHtY3VEL3zKg/OJrwFmrT5NWxREF3Tlaws5SdR3k+OttFD0iDlZ6qAdS8e49zMCV7n3a178ZRM5XYY4lvwN132e/+/OnZ7dt89NrR9jNPl3N3K7srUONAVVLdhIGRrnP3xWSyet+KswB/gsW1qUw/WWcZAA7FFnqRWj/n3/mSPb/+m//q017feYD9/b3ivkLUcHu00hcSZ5Wx6oUio6DoBwCBom1VLBVbDPlMleJjyoshFhIRBYR//OExFUlOnqcANPSuBUhJULMIoUK2yli047sNWQ2rGUclvqSLVmv8VjBqpeNf+5arBEHVBqdrLSSpFjQ2Gj1HQynT2OV6Yhd60gQ49KAZ7lu804wxtF/uHn5UPZo8YhfAsBwJnl8+1xCOFnPobp521vFkVfOf7Ip/vHxDXB133DZT1AyFzOc5T2U5JQVoaEqFr5oiagxQDMx4MKI4MLH2iFhSqFC9uE/ZT5b3BCYBKhIgKMCwHMXSmUxqSHIeSMC//OExHMtTDKIANva3WE4+ORBBEujGHOMIUDBjpqSR/Wu/rW7ukonqoeg63fT////7NSoNZBmoIrf2//X2///rdbUGMVooJMgktAvMzmaFVXG5nhXdgwODPbBH/vpyrockRrRx4e5VLrHCHyIaz3+uR9/M+//5PNr9fumcbPL/wuMSp61HGKSDxNzlUMtkdFovO/Urryd/YoFEMfsTu7HbGcgncsp5/ZFVr37ODkwE+sti/RqE7CnKBJGKhlBWmA8//OExHAtRDqIAN4a3EyLiUZyUTMVmx0mkoT0HadNEaTbrW3VW7JF5JF1mtKtH////9l3W7MpkXWYsy6lrff////9tbKpOmmuhTROG6Rx6RkXEKmt4U8YEOmJxz/9SnY61gGLx0YND9FndrKNlAFvLuvoWo/+94UP75v97nMe/hnt3MLM5KoUo+X4h2DHGmqsZHRUdqYm4zBiY8LjEnlVWMTmPaCl5LXCpt0P6u2sr+t1zUCUmRmZlAuhbQmI8y4y//OExG4vNDqEAN4a3NAxKNJa3WSNJdU7fshsggggYIIHn0rJKdFDqf////da3lxa0nLiiYeWpMwRWaOp1Mt2UtBk00EU2+v1pvuy9mTZTOzGZqYSkpSZqYIpTqmYtXpO3hgoqYr4nNizFVoIMrClUABDsaqCQ3Uz/0G2QYtq1HIxf/8rub/+8dx/Y0+TtCjJkhVxg9wjLjK9owQTRet3XSkO8gyOuyu6sD+l6Z143t8+Wb+uqJE9Ol00NCmFnhYi//OExGQrA7KEANvg3fpH0jA/fVSS9mUlUl69E4itS0TxmRFnsiy///16elXtRQOmhXPIIugiYmrd6TN616lJmLVWdFOgjPGKJL8vEsy7Wiaxg0qCm5+DoMUbIQYMRB5M0KGMBhbMFgCGgNQFmDwEGBggGMIVGBoBN/DkyN8owBKA4prK9M+P1U7q1MNJWX5jq16wqlUroelQmiXFxzrcJhQ2JvO9MSipZWwFME2CrFc4bGJdUplU0kmVetbKU9To//OExGsm4wZsAOvauKki8Xhhh5TJ7LV7/1/qdf1sZOy0WW3///+jot+uxiaomoC/V9YKzyzv9W4iIhwNYdVTEoAEc1KIwOgjDC7BQOKgk8IGgMCkAMs2YAgExgHhYA0BQHALLtbI1wwEVsaPystBUjBpJ3HunJsyC7Wl0eiU7dkb5Ned6e1lDqyqsFWoxU2j2TlsDw+QstRUNxdGy6BWbnsRg5VmVKNm24fL3Y1C23xaB0OBwmHw+aCJhCZNIKnz//OExIImIbJQAPYSlAxjkFhKuLrBZ+L21yomaeb/2/bmW+BFsvy8Y4AAAFoxin01WEdB581riIDDBABRIE06J8KAEymHWg53ZIHBjhUb04yRWONqkHcezGsvIr+0CVXx6v941uJExT0hx8xFfZsiB8SFJhSQaDqYckYofEAIKCYEI53OeRT2ZBAhxAjLyNO8jEqhOd1Oc55Ce6EY7o2f/JryEUXeGNQYD4gJrPiMPgg6jD8TlAxOYPjwufOEDn84//OExJwnYr5sAOvKuHK1Z4YKARdsABgyiOTsMUMZEkxoEDEoPBI2OQb49EAzd5RDA6YHD5nFGmaw6lQytWkwmEwKChcCoFJoMm0rR4DchrK7lLJfDvTAxC1a0eUEBpUjH7liRBVSRbV5Kn3lzS+UtNDrrupL3Vb9jaZrwRJuA6UHDVMuVzmdrHdCUyHKvGqW3y3HY5ItwTGYjKJbu1DkoXDhBjHcAHBMRMxc29jfw8xIF362xxYjmpGTN4dMUetz//OExLFFfBpwAOYe3Yv2xtaptTsWMzfGbRvLW1s31q3xua9vvU1YUz/cr3UKkfVGqtrtkOC8ycit8zm9nnt8YjZ+frefqtos7mz0a03WMwwnrBFfwNMcBWMkOeRWSMfc2+/h3xNHtDZJsyRPCpBopdVIbI2a26Bh9CeALhgIYOABUBNAzjfIsUIAEhCwabb1mirhioIu2QLmMuDwcAua0syxUWYNnHEMEeV0zsy7ysN6DGkAxCGJfFNVKc21BjWO//OExE47pBKAAN4W3Dpw3DTJYMfqarVYjS7dCGZZDzqQA7iuV+thZ+0yBrMB/LaLO3bq0tL2ku0teew1nSQ5Sy7hLG4bw9GY4DRIuWPmjo1VrhFI4ec0inyAk2FZmbokklLmEtvq+////4/75tls3RP+5CviTdk5pDknShDXbr1rYxrJa8/NpHDIwPFxGefSZZplWmw3JY7FcreoUtuWy7u2vSafKTpQ0+vYu7F6rY3GyhXOEEcJIrcbdIsR5nZJ//OExBIl67KYANPE3BAfjSECXlpxECAz2TW8kzFZB1qEocbhm+y0qf4/zJhMS4CMHFH8BQxdXpGz8w4uvArjNVQysU71jYa5rfFv7Z1871/eTPxpvEqEEhwEocelzsu7HdzlKwhBjhAhVcG57f///7//6+oWz2t/XsXsV2eFCo1l1cqspUIQWsKsoVUoHA6dbJyFx7ee4zYtEjd+ImAQM4ghTpeIEBxoFEcyJEQdIHuAItEIVjBgUS8tzceXrY71//OExC0nE6aQAN4K3Ol1s9wQmrA1nlIivO2sKzi87lZi3dau0395FtUEMP5Cofw1O8+phV3h93KxhUq9+xVrfj29TVusLgEHhZl0crOzJTMZ8pfWdjObf///+nLT9XV3KVaUKW3/6K6vEZDFZzKj3mIdhrCo0JmG9/W1RlWhhuB2gG11xloE05VUySPMqUCIGWgYOaHDpBr5QF+eBpDdHil1QQANUeUj9bgU5yDis2G4BLA5jGOgAUAmg5n65Les//OExEMlwWJ8ANvelMF0vp58vKxTJxvMIWklR1N55EmO+CiEltNrR2mXAaIbUtMT5/CxCV14tD7BxpTSoNCgu5G5vV6aP/b51BGJWO79/U8aAQkKUg6NlTpXKjXJoQkRapLT3XQNs2XkrUoFazxlFJiaT8MuGhIippcnvAdbGA0K6bLjCXm5MRde0O0zpoIhaUOtuOgGxTVlrzpvfV3BKw0DzUchhdTqsqkieUCYRduL9QNMzjhAOG4PQeg6EUbO//OExF8noup0AN4OuM6Ep7mkEes3qbOd3VZnPOX9DN/3MS30TRf/qmiV0MNPqZ3e1dR9DwZff9IuECRoHwQBBwbky5sifYZN6W76FIWljVIFwc41qJg+KLnARSJNqfTLSUIIg9/ru1gVrdx3oVnCIFxZsqYelQq18QMAQqt7pdI7U7ayvvpDVTWCrjdduTEyvYsLes1+s7+/74xre8YGnSxPPSzkK0p2OZnJJVHY7I0mlnI266MlaNL+1eRe7yCc//OExHMl83p4ANvKvM/d7NrrVVMipe1E2YjajVyO7muQLBAGQyMHCpoGkxz43sa2Sll8Iy6wIDQ1wJglobhBRucN0lZQaDDoEqBW9wm5SuLvjD09DDYRY8itvgXssRu7Db+36W5ZvXe2bHddxxy7Oy3us/talFTWEr5Zuc1/dY3O/3D94WTOdMLZbs5mstJN7GR44g1oPWnV0PfoxnyHtafGpeuefsfr1rnJln/NStvG508r5t3+8Y0noDRfa+Jq//OExI4m0450AN4GvAydABaUeutCZak0VePVeiIrrBhgY4pqbSkZETb4dRZgqqZhgEcSxqSZKYKRnIuockvACBI0QoUVd52TGhKTI3qSAAAZIHMNfpTRBTPjuKZwP9ygwx+hp+d5IKuGrVjDkfB0It8h442eNBnvm1/r5pm+r0ximn8KAz0myz4pre9aznVc3/8/3eP8d5IyU3DC//+3qc8+0VLLAYgo9bSlX2os3MdADlKCGTUSA4PaisBeWInI//OExKUl6fZ8AN7emAghxl74GMRhq44oerSYDSnaxwGRbjTzt8UDEztKYmZuStq+lBDLz8y4DnHWIRYWiKKLLkBQ5vkfUz5rbP88dRyi1nqW3dEEdheWk8BIamh/OnGMiDkpnXMJ/w5tNNk1Ex+GB7pPqJvl0x8U1K3do2xQyVLQCHP/8gKfngaHVvv2pImTTV+7/pqam3iIE4UbODkyAB20Gn/bgYvQAnEMrAAibGARiIGDAYVnG5UONARlMSlQ//OExMAlIfaAAN7WmIL1ywOYxHiQWlc0UvsDlV5LjpEoTCtR+ESL+xGR4q3K+NizNErz9c4tEiXh09YCkYoEJ/jFKRIPgv/XzYxdkn3GVWq+sT1vXf76lvu+dZiOUHjJhZz/96hMK3s1UsRGE9Zt6Z3////9Ncqj9mAAgbaD5QDH2RnNEFMwkAZE9BgkTA5+J3l/jCRTOmDoQhBJEZERziruOj7GzEAIFm+CQbFTAxxM7BwGAEt2gUHJNJl4GNGA//OExN4k2dKEANbelINMSjtVsijNJ2SupuzXeCaoq77xWc7dqxOauNdmYZiinT6W7Eit2s5bZyl3h+cuaoHymi0Bg4SgSCHHQOh5cT5o4fhjF+ZWtSUOag2uddJp6KYzr//////c22lzHuefZcTFRNRNRa8xU13cV77/tsQaSykL3fY+5LP/6MdUoqDG1nKcURUaMRdBI/i0yDAA3ACiD/gBKOuO0101yEUONoAMBMlXMOlQctt7C3dMWE4Ced2R//OExP0xQyJ4AOcWvAB5EKy+cTSMHES/bT6Zz7M5ejv7vanPw3Ys2KtWH6eUvFNsnj1DJaDdWtX13DPG2LHrMC1kFCxtjxUJQ+Zg4cQ7qEMq0SYyz+H4Nd4pRHFznuu+//////j9ZWr/7b+J+eJ4af/6r/4XaJ0QXdFZ/W9QnHhYMRd6KvxmmimLPwsCQwsQEjps4OmGoOOJxzQS46wJgKAbOeBw0rEsCCgEyHjc6l8AXJ8UkFJzJdQJlDKCFoc9//OExOssA0KIAN7QvDy8VoU8OytTFZKl8biMYr9rX88NVqf/q3qSm7ZhTyUmcIfjWsqaxZs7u7x3rH8+ZYfy3qlIoUG5YqPA4ZCzHlVSiK5QeHyCjrLOGjvUqmr///0+n/rMb+Yv/+1zHJKWuN1sN5w4ac6yjFmH5ppYsY12R1nnnkEuo+PjeAgz6rtuVkA4ZBOjgekIUBRolWaOhCw0CCEy4RQpBQlLWTCADYCzWbfQjHNSSJgBT2JcKQpihSgK//OExO4uK/6IAN4O3Q+9spABD8yoDoKoVpCCqOasu9MJi7srvyNlaywZAsA6Pet/V2ufM9OTM22u7QUzgIZxLQUBHWNrnrqpRqX7Clz4/7H3i/sf//fzI/1UuqsLpN+f6/1f2MoclsBDrBQCqoKnZ1DagMbOqVWXAqWGdVokKAoYZpVhKpa3B3TCwU9H0DlZmqbhhxADimg4SAAGJofylbRAYIEBEa6kGmE0ckFtzddZb/77FrxYq25N0x10dOtA//OExOgrJBJ4ANsG3MTb3GV9Ds/YWNn5wisJa40O2nEhyW7OlscCwsiHgKPjOQAx/HAfBzLfkg85hzDg8t01XpFqM8gWafoRMhePD8/YrfWjykbl17xgyvsfwdf2In6MZRv+vs7OvsavsgGIoJ6S6C4PoPnBOBDhBS2KQEWWIqaxnuoqyguHwImG6tBZc7EqvQPIqahmbdrCnv0O7ne0t6zVpI1dkH1q9StyrrluvrdDUoJZdp7EPvxUksvlkokk//OExO4sUs5sANpYuLZXT0Udv40atheBhjB3YrxOPuxPwy3BmCRjguY0OYCijoo0KLAi2pjGebml5b9ZxlQFYz5lsFOAgRCsRDJipgI9hADnqaPuvAVFLhA4hkbVWnuCBQ3PdpNRNCVl10u2UrreZgcTehnbuPW3zXXaf14nhehjSuIOYexpyWwqDsHXo1NiEJh+VULDGBrTZe78xfj8AOJG2lvNFIooG48cvzkoUAdmNR2JSD5XAkonJXD9eNPo//OExO9NbDp4AM4y3OQ/d+GH8eN+60ccSYhh3KzWIzD9PWfuV5ZzEsp6Cy+89LPwp7kspJfhT7p8sbeN63+piMUkYsUle1Yp61W/uxq9lSSWH7ed59CyAx8MmVsbSUWaCTZpS4cLnpnDPmOs7/w5NR57/N751rOs/L+HvxNPH906h62f8/X0W5szI1Vq+fE9JuXZjA5trUjoz9Wssj53mO4J56PSXE3jYAvGSAlHSD6CRM5OxyAK2DLCFCDlIX8k//OExGxAdDaMANPe3KKeAGWJXg2Sta0QXseltURPSW7XVVEkFeomtFR08tEtN5N2amZha2QtyOYatkN6aTGwmSmGC9D5Tsiebqty2ytx1OUFxVzWoXjlNK1J6C2qDLxheu2VirqxzK5RXcFEpWhTR4TlV6ww5IcyidKqL26PRyy+q91aR9PNnMHNoMKPiE93Fi5zCvJiXHg5p1bqXT2Wm/aFCf7UfcuKeggKhTHbwLC5uiSbyLtIj9iSxen3jkmU//OExB0pKvaQANsWuKzY6Lfzrp/f8Skg86rJSdaZWmJ8oq0OQByWvJsjcCBIWQpAnD8jAGHeBIIpLc4dpsokiamZuu6mF599GJoRHFhONxwOw+TYKylHVJKpw1sdp01WiTR7j7UqPOdLuY3Ixctr3NbH/xNOvvc5vDnfz/7prlGs9MHrD6KV/mVB01E7/11K2YfPIHKz2ch8LAw4ieQMQWjNOIAYY1Mh9MkhAnfiX0rJVY5unsyQv7Pis0x5x/2F//OExCstrBqEAOPU3TlteEhytj+RPHEWNz2wokfk7cdqHA2htJ+ZsNIRUMMlmR+jgELP9FJ590P0y3dN3eudmZ6/s/88enYmNQOYNw9AYPEw4sXGynGGmsXLNUqQHGEBMJonj8cYgNU9areZY6hn////7WmIYc5p6Ozq5jT5jJ9/V2RlVKTjFtb/t+jVydCJChGpKiEAfVvtq4R9uAyHmwdZt46sR72REoea5XRe5duSoaCp7LHCU183+IK3v/DF//OExCclNCqMANvO3RP/CV0TG6wUk4Z03FuJWz5XBRA5lmd5KX0yj8dOEFQrjecb3Gx97tamfa1Y9M5pL8YcUgaSFA2G4PQDy5Zzx15tjj9yI8OOg6YVfSj+iL0/////9Xtrdj3Vmnuyr///0Zf/0X+3yOpyk1VjzCUNzszTYRkUNSkDlwh1ZqWpbmoi48QQuxleL+75/qdQ3zby//WbZ/zndcf1fxbv2NyQhbrAo1hzKJ8xP1mHEmhLg3EfM21j//OExEUnPDKMANvO3GHusVxbP+66xjVLwdbyyHDxw8B4iA4Gx5xBR42Y87ZFNbMQ1DBuyHnuQop6HECz1////X7pP9jCqqOqODdVRNtU/a2qnMiomzW//fmFapcie5irOHRshVTWeq4WQP1gOKlduBkUVcw7hupTVu6zx+tm1v//zvWa/7zXPJukpqKWFJaoknqTUJIqqn+9/mfzbdt9vDO79/9+pQcns4f5kIQhOvlzpi7mjn5EE4ynSN9IxXKc//OExFssZDqcAMmS3O6cRo2/a7ZGTtqX7RtzUTC6OZQwRvII7k4QYiK3zRv0QAgGBQzJjoEDC7+mTzQX6QZPYQggh/uN3CEUZGT7i5GKw2+KNHODHpi7py7ajpwi3qPYV6gvKrqQATAXKdHs5W9dSbU8///RCc6iFLZ4qntympm926lnb+zfz9t+dkzNKTS0901/+rP3rW9HdYg5atOtWUWxy6rSL23m0pLtYygSxnJUMzEzLbp2ancZeUnTJwZr//OExFwsjDqoAFBY3Np1hWWyQWB6cP6hOVMEs7IZm6tNyoesLWBwAEuHAsLYvLx+C1CGPQ1g2OTYK0zZ4Ylm2Noh0DE9HgaTdUYFx8kJiYRRIMEMqnRscmRg2sooetVuA7qb1R3L//////5dF7/z659ol+XKVZm8zM5MzMz87Ns6ZmZme/JtbrT/O1vNqX/s/0ztLba0NYYlsSlUtPnLvqUp6hHyswXK0LjM8aGsqHQ5JTFADkqE0ybfcMsgPSCo//OExFwm5DKsAAhY3VJViPUElWDlYB9EdlNAIAuOyCd3Wl45HtQciIdksGiAiKovSxGfFg7VOHhbWLXUSEhq1qlSkSHHG3coKzapPHXaUEIAwQwgOynELIuqjptIy9P/LDnRiOxrkatVRt7M/RlVC0pp7PCv/5ZcnTnu7/t/+/6/9w/vd8pZJLSm+IrQIEO3/Dx02ylMy2jYhEmSJVkJDIMpHEaGKJ6bESAiNqlEX9slVXRQH8fFUUmCpKi9NocW//OExHMntDqsABiS3DiONgiS8sKgyZRkDbQPCbMi6YpYJkLlgSeJiEyZbgobRUs0+KkCYKuWauCN+ntVagjGHMbKBpqrlh6DjCpzRhZRT4U0oineXSh2I718J1tN/x5bHWHR4Kxc2B1kCYtMlXhZdwbjze9KWJjqq24/47inxilj009WTye3f///9t/fof/Oj2c1GasFCVHVX/qq/Z8mZ+vlazkUecSr95lmO16pKtJVrzW/+Xzs///ZtmfstXp8//OExIcmU/qcANIM3UpyjpnvLv+zbM5W87TQrX8fqlWrD2NaMphHUqqOUXka8RCEG4SRroFM01e0whZ/M+2APF215h/8E2p9Ed5Ol1IgRh6H9xitITamRCWcTGtezdUAcCxs1GD5OZbm9nZ9jD/NVBLgyhgsD1Cpg0USCTnWP6spyNcqNyo4TGikZ7WfVXacj9DWpr///99njUx89Rw1k5pi+7KaZVjTju3///5tbqce5bMBjZw1mZ6Wu8iIYtVZ//OExKAlpBKQANrO3ZnWktfeWCEFmJSWcpexgIBMvjFP4WCSJVTCzAJ4WH6hMDIq/I8eM7lAViGF8LgoY7x6h49gYKYng5lWyiQV8n5FDDDqS82HunrLTG5mGL75veur5xp9P4DyGzM1jxSNgXA6c44005TvrcwqRnGHlCR5hE8w3X/5z//////+luv///7uibo32//zdHajjpk9HHRqbkqUuM/gyBYqjx2MmplckJk0EK0BQISAdzHQ1TQBAzJw//OExLwnHC6EAOPO3RkHAEX3BkEjQCwIdL1iq3P+12Ha9lnTEs2URKLS9aKEpXUPW4BcWgl1NATOo3IHKr1KbmL+2WKErifCHHezuo3rNCtbUH43iNPBzB3qLXWLVqxM2dwrZ9f81x9fXtvX/z/XWIVvV6CxI9////5Ke/02VjIlGdX/rOxLU0VlDAEDA7AXMhZww2AxVjF9DGMAcFEwGASjCLFRMJ0JAMAyWyXFEIBJxGJjAaPTOzElTNhmTPfG//OExNImOgJoAO4emNYOFNxbkpoGCCImprIG4MtY/P9lkYl0zcitSP4age1qYj+opMU4kEhGWRGUZRohJiqkWWjEEJKdPHySDnLcgIiiNNuTcKte8kktGe0onCka9yXXyG1ndLkUCp54TCbxn1nwrsUhRcdUGyrbTgsy1Fv3btntZkht31oRgCGAYAGYDICJhDA2GYnMgZBYjxg/gdgoAkwAQGjFWBCEIC5CAGJAAJVhgFo0NMGFEYc7Do3pRQtc//OExOwsafJIAPaSmKhmNAHmhuRBYIJDnGYmhmXmRSa8/0QfVgtWzL7E9DtbsVr5R+1EojZqVA7QmztGn861keozM1hodJyk8pssPlCqrsRCvVTl4rKrLVpxWtb1WsuuZs/3//47Dnz8xyzJAN2ojkEjVzJlVDkPSW0E3v5t23s+nlxylQ65abbq6miRJ4jAAwNHUsyALjDAkMiFwWRBqpEGZBcOBExuWTLpRMFFoDoBpEENDdHDBjywEQ1LTtKh//OExO0t0gZEAPaYmChwEghggyPhfxOUFA2iNMZA9qYkCPo6mNSrbw1vOpjb1jar36dw7GvDMBssHYNgIA6DjKt73vv2Sx798vuWMZ2xjGnJ/p9s977p79m83UJkBgo6Jz+IDjXpN+TTsSQE4gn1v7f9OJyBco7+pydKggCFNSAAgSDYsBAXF01DhQx5BAMCIwFBE0vdUwFKEzOPMzaIky6FI3mbY4lE41qPMyhQk6BsEyAc0xBJwwALU17bs9E9//OExOgpmfJoAOaWmB7SMQJTVzs6nfMGBzBDU2+ROp4xmEBIuY0qGuKhmhCJAiHEQgBIHqqLbsgIAbG57M1rkQPCXKZE+6lToo7qVtwLhqWu6KA4gAlYEfyz5EDoDC1iCjgx6VRjsYf6p8abR1IrF6GX09eIUtHIlyNqoYySIwjdSjCzQ041taSV8JWm4cCcDjP8+28/Vs4UUDIA3o8CGJoYTYwwlY4+C3Qa2i29/r7tj3vbE1aRIGctsLXtCl97//OExPROLCJgAO7e3cCTcGK/Ym+76E2Pax2KLH1fFYkS+Y+ZMfFd232DNJvGVjHpWsyvxLEYn8Xct6zxa0lnljfUbcKLqv/18/71X1/1Wf0W4klko1dEwtPHD8mHCEQADB1ITtuxIEiE1SxTPAFLJBcMmifSaiVpkCFhgUFBgUHB2kTQKUZj5hyS5kGdRkyMwEAoxELI1CHwxTBwiBNKAwNHAxUB8RgAo6zsw5BhW5WdO8aB5+JuPLEW9x+FbG+k//OExG5DQ25sAOdevLBzx0FeTsjZc5VdU7dHKa0vAkAot2oq8KQ7FGh0D+Xpi7AD0qxyY10xo9fZ4SeHYQwG+bSpVx6sjX7Qey3ewWZqTcRvMhjh3cVEdCpLoS45lM4tT1fgMcCeu/n7////9sd845pPStcatu7yX4+/Wl6/EaseB7blvWPf6rW+oMSCpYVY7zOPW2awaxa+Fl7FLPKpEii5YkOeVI/LsKPE6LkkeMLVDgC38buQPDbn2Vo1KUnw//OExBQp4gKAANcemCSmrrEAANXG4oA7EBgTmtbmaEEpdJO4ELtCSpYqqYZXQYmFJF6TFJHMrBNtIhAoOHTXqVVNXU9qbfnnbkds44UPcLigjZhKxXXirSEwkmIu93ReZ4l/WWzW3Rq3eK6kVHMrc3LloxWHPbdbZzEfQc+LXL5WvXdJ8fD/VtSA1//IpubXniIZYcJtE4fSiQFGf///+Orlx4RmKMlC5VRCQEHzSIs8KGRnx+rY8YWLDV79FZh5//OExB8vUyJ4AN8WvIJHJtyyJtqxtZCrMBwmTVT1MBvUyYCRIDggGmBmOYJB6lz0jAaHhNHqNLWB8LD1wjm6Bq+Vz5HrtBBfatRqd+Uyp1Y/g/7OKaHZ2GpdTZSvHDNEvJ7SBOkET1xOSwRVB/nk9099VBm/g6yJJPLkHOchcwi3/m//////me2RKVJG7Tc4zhvy+442vY339ta7plTEHkMkcQt+7/o//nGmKqtqHQScHAhrbOgQk5iZguRJlL4X//OExBQtI0KAAN8QvANM97UxzMcIrBmrGFgkYeiOCrlhTCIDGjwn+3xgIWlYZlKcRgQVjIeFgI86E4HCNr78SZ+pRbm5FvDOPYXdVb28ol+XxmnjFqGn3euBJe8lLbp71JSbnLNnEhlC4NSx1iKJxguQF0o0X/aC3quGS/f8cvC7zXfN+n/////9XE2UlUN+9J5iuI7iEvXiaipaLplVD0HIhmKiAIV+leJ//66a32GTBRc6cOjClCEBxRWGCDNW//OExBIpc0qAAN5QvOQd2hhGhLLcGuUYYuOAaKBjzAOpqEFgCU+hbTPkO5EQ6zvM9MRsOVlUQewmOm8Y7exu1cP/V3L99v/+t81V7jdxi1LKL79Vr+O+f3WS8Q0XuVas4roaHQbEQeKiptf2qqq6pM613kjufGDf07hf65v+f+OLqq/jrTnhf745j/74i27i0u0VlICQaHgqFP1Ry2PZ3mqJjIocOnGAhdObACrsoam7uG2KggyGTTStjallVywU//OExB8n+75kANNK3QFKMMbQrSwMCCVqG0hgEqG4BMiCdJQRolg5Q8xMTUK4ANwcYXk8dKKVE1RqS+jSf0i8mianDYdp+ktu9aOr/osYoCipS8xc3l5WvX1KXRytdDOVZv1/NMreYtJWzejq1DOrGEnLo6KHWSqGmMY3fsl5nLaylQSOhZP/Em74T8hv5TVDzQSQioLLic0CCoFQGlLGdEQA/wXEAZEuVxb6YLuhYFoQCCOHlHNYw7xxvRKlVyZe//OExDIlm44wANIGvYXEkm3WjJ/dS3MmpvlXuZ6nT0DWdao4mMJaQ1FI4S5QUjUxirOyCYDoMwxzp9BiTUwWnVjnDMtE+Zo2u12QExqQP2ZKq96l05eakSoeqq2x+Zl3Crhj2cFJt/4KG85Q+1Qq3HsqMZHzxCEFBhhwaYGFFvsbUO/g+WcijUhkdfGas7xpaTKfBh0M6KDriwwQZTfMIQAymcbRSzBDYhHFi0LL30KmQLR2SjI4d8Ru+YzoEGGi//OExE4kqt4sAVsYATejQw5O8XkMxbm1tj1K5uCUMzII40twSOYhAiJh3TEw2J38mcSPSsIGHN8zeAISPNX6HwDOkUT/A5N/zPFrSQxowc1YnUEMqMhpUh6hBwEOKTNME4xGIioaPCfBa4CCoiton2fBzgkDMNkHiSYg5l4IOMwEkQ4MkkoA0EmUBL5yXnW5hLh9JCgsRCxlLJ1SqND3OGr46dQ8wiUsBtqmO1QWB/d/P8x1i6hUzKrDoJ79wsOW//OExG5C/CJsAZl4Afb+dWQWfV+yGQqESTkYClYjFlgxW5mfqaWG/eRIDBEvh4q8aV50GKgkMP1NFyV6QNtySx0titjN75VJE/nNWrmejO/jx38eI3s8TN2SInnyEuRvP4rEwktUSJetsFlVq66ufVj4u2OMla6+mR5EgPIl4ESPaj+937+94cdSx8J1TdTq5iT7MpmeKlzcjuCeu9Yr68L2vvMuYkL5mVesGCE7gJAwiCAUHAqgLswK119oXFYZ//OExBUmhAJQAdtAAIdkFFKoejNnP8pVKqbKA6D5wEQAoNTA6EVHEIF15wlZXiGKD46ZprXiJTqOL57XadmdeZr5lYa2va5mtrXaqaVNJaVr4jgWuVnUVmoHtesjea6h1lGfqR3D8rUWpTfKyq8qpNRDTO0//bW1zFx1/Lcf/63XszOrfKypNfrWtRGptwxL1hoCiZ0Q6BABTibeCHHtfyW01uRXassylvanLN3d6rujm9sWeTYvMGkDEXUX0BOp//OExC4l69pAAVswAeFRWehlgO7PfcU1t/8u6+bjftcW3eaZ2a/929arnfnVlXe3jR7qWe89+H+01s3t9mPWbFfU9Znb07x3+Nrd9vxE/c1/3vXxm1136l3ivZ9/xb62W5/bLT20+vNab/t4IQzOILj71hgB+uWGbkked5gFjkOOiXsLPBCasvHiOgAoqlRL5uFpghKIcJ6C0IQ4g5vHsaIN4w54EQF4vloiAyhICABTK4FRgYTgRODYIIABQYG7//OExEk6NDqIAZiYAGXCyRBNOmpAcslCuPBBiqOagQ8l0SK0GQ5oT6K0VJlKs41/upmRN1MbmpHEiXTBM+aoGIxpBTFCy/8kyIFlB5gm6abkYS5bIiYKctIkWTR263T3QtMDpodUtE4ZJqLxTTNTRRQQOENL54zcninNETdL/9N1un9RfSQKhfc2TZibJgoEyVjhugV0zRM4ornC8cLRgiRoskiKQ5y0VJmpdMmDY9TBcI4fy3qxX8BLR/jDAIGJ//OExBMmo9qUAdloACR8j+B3mmwAwBl0/jOP5W66DQDVMmDCF9FMYceRkmZjvGCMRBwScWxCN0S+aMt2ZZugmxgeNykXR2FCUDRF1IM903tfq01s6CC1ugYHUTyGvdSa1IVpsibJFxAwJMvoamoOr////9/66a6303d6//t6qCroV+qtd7OimzrTUyd00lmU6bNnHqWO0soEYiZmPMXlj7gFJZtFWemIxJiQmJAr/EAkAl0g2SyAlVT18TKJShgO//OExCsly5qUANvKvbfU9K2XYnBxR2wHeZUtjIVVqwkrnEjLXF2LN7Hchr2JJHpvz/41vf5tFaqVIKGRQHGAKoDgzIIF67CCsggIsURDzDwcGDHsnf//////XLsVEZir/9fXchmI5vpU6lV4s0KKD1wVX3f/RTpy2artLEhEXAaBlsNLZIIUHzIoMPomJjcggMxIUoaPVDwoAT7jbqDVda5d5vhE7+TvJrpvJmDGdwaitm1k35teFe+G1W0xdWva//OExEYk28KQANPE3L9L3+Gv5+M2/1feM7xI9xnDfjVmUVFgIEPCGJUxlQ5VuVpaOymMqdX////6L//92cra27zWqmiFcEObZXZelU1KITAbOGi9TNWMSLFxlfpJXBRxBmHAEqMdNTZG0HHwcEmYwhtJwGEzch0BMUIQUWxiGASQHKgaOv9nlNUjvWsMGdS7GLqCtdlTxsRisucWrnS5Z43eZ2rNWniLi6oX9d50c3JhiIzctsU2Fu7bwtymlMdH//OExGUly558AN4EvGDiTlBCjFI7qFFOqCt1NZzP/6t//////9P/9Slzf+hv6KnehaVqVkSUBYGng6Cqn8S0KsGbPsqQ5YWbNEDDD8wACGQZ0BEOGfDi1ehWuD1NuZ0RYSpZK2NNntVj3aifliNqYfq+5pqpWbatS3YK3gIerLoiKkE+jVeb6GGcdJ6LJpFL1cYqPip5AKOI4o+EoIsfTY2xZ4lsv/uPAgU18b9KSVnxAOAcmTjWinp/r7mmGpOJ//OExIAnIcp0ANvelDhk+aQUSAzJM4GEuS5AEDEcgQS/S0o4Z3VvWa6axoIcHQQ4YJdh2DE1M2gBZgWwFD44ILuv6WTabnGAoal+UqrS3GJrcnr8ofjtaVuhS5uw4sRkr1uhD8koJTY1lS38eSq7KJJPRadeqPR+TRmVX4/YlOdJ3WVzUu8odArCQoHjCTlVmKaV+trm+VOvTa3//////r9f67O6L69Om1XXM0eFSIWVcyUekWc1Opr66hKbltMu//OExJYkw2Z8AN4KvFMYoUy8B1Mk9zDjLEYHZ2OhMz7JTDQRV0o8ZCETat8MBIiELQJpGcajZ2h3YpW2uuW27a8YzVuJrz0PxyE0VuWQdhjT0uFe7fv8i8/TSivDL+y+jk9eJyGm7Uwx5K95YY/vt/u/5//lv//I9DqpqU////////////8qsT/+j3puLHYaWMCnDpxemtz3sjnfamZElEA45fMPL+yWxiSqYWsQUF3q5mT8LBTZWOHNOQcdPWFj//OExLYnhAJ0AOYK3UMWHV6SMQFCEdSVhe6lvaYGChnccWZrUy21NUlbTrcofxcG5c5c3UjEm5cpY1ni/9n9vVL6aG1hGr8iktpcKeW8xzlvcrF+7Wlsj5unt51Z/uGt/VplOGKxVU+jf///////////6Ozr0t+3a71OyGCIHGFgiuc12sQimu8iI71lQ8TCC9vktXnuIqhOCbyGzltVWykVTGZdvE0kYbCetr0nHUksl9QAZNer4LtyyuDH/XOa//OExMsnhAJ8AN4E3dknGzluiR3qkUV25i3WdHXhxMPpE7lfbGFWq9gcX0SDTHi3p57UpPbMHfu6nbNrNqM9nbLOIEMQYGFWK6f//////7/++ejK6o9DUPyOrv9X/ZbCwuPoZmZ5mOWUTERij0oFf+trZyE1u/yVPWQgRhHEAQaAaY2oCW/E2vm5licbXBGSGoh0nbEXGRJd+IAYjWZFOl4+1Mqr03rVkOlmlYXu0WvsrglEOY1MThBsRPyxxmhL//OExOAlw8aAANPK3RcsH6lURBUJrMaIZ2NnzG1Paa+bzxI8d94L92wNxfJ3zYggLFdTK7s5mOAw8o4WOWxZmR1q/spzM7v///3yLM+rFdXQo1KSoOIpUdxd3dE5F1qryi4ssTBzFQCChxqscODRqFYUCIoqB4TMImjdhjBuIKqxVbrdkCR6VBOMZuXkIu7rQUWBqpo7fHSSdUOUCcrNaeXjeizFS+hwI2ffGI8sGd/D3FUi/GgzRnqtUg8nqmbS//OExPwva+54ANvK3Z2criCOI9BbYoMxKiZmgS8cSkOw34TJErrTyZ5WIz3tiDK1Nr5nY2Q2w1BdlUsV1jWiEhyYQ6VggcQKxXf/HNslX9fz/////0/7fMcM9pfrXEVQ4XWWNW6mxo7rtbaxhQtrJEjRNGw4pRs1Ss0bXFX2K5e+kQ2Wlft8JZQJAyO5mXCIQGPDoGDAjOPDgamrDN5+oFxuM6lckp1SultStzDN7W1rG8ZxHrWuo1cZibZaNjTz//OExPEuI9p4ANPQ3ZSZDqgD0vXA6BqvyDlgDkSitEON9VCOMK7fMkNR6Z4G5dTw41n+4Ey3EcgFEBMouwx2IxFejzCZ2EjsPHEcXVC/9GRC70//9HardtkrT76D1ONnlusyOivQyOpkeQtiHVSGVjd2mq4kVkFDj2iJQXxqkKWtZFDINCBoirGKwcnSyYISKakQFBSw+vLVDa+VMrT8t7VwpsJ/6aVa3nz+3N6+z/dd3vvd3t1pu6w1kDqrajTQ//OExOsq8+54ANvK3dzRpSo1mOqpF0JfB5e1AUpiSDW9EXw5IaeJ402Fyntzkpi1ZmbN5mRocYKCghBwWIY80eSMxw5yChU8chSlEqHowVLEeym//6qThdBlFWs/zfVXH//zPG38/3//fry3EZtNCcLEjRqTA0zUUuRk7FJxNdRFfE3pcSPUjEj2IQuJmzpgeaUvgoYcMCAhxNgDyxWNrpnYi1t2lomJAUhnnrc/5U3aix5PvcFH6tun8Pdq73vV//OExPIxbBZoAOYQ3f///FP5sRIUKC2n8wlvVihLYaoY4K4dR/pg8iiC+APzHW0+qdd7HgwZrz3TkVnRTawwNhCSDEPELGkUlY0yexk9qnWLKRjMmU//6s5zfpWtHZv///+eae7UdiQw1yRXsjshsxDHZjZppIppikzrc9VQyrzpJJTy5UlNMIhaPoPAROqO1XJVSCgdM28EyoHVYn8M4CxulCKBQycA20zTvTjqVy+9LfuIHVD9XUmk/r6i731b//OExN8ry/psANvU3b1WTG/rer+24cWk63I7Thw1SwGIKxJCcFwX1cqxVqE8hFTHWWY/E92xURM61ZqXEFW1MCOwzBctOmx97Ia24dcX9tiYnXQIA6tMV7//6r4/5/+YfOo11dxv/mf/+oqz6EMqYZN246k6ISVXMmoQyFl01TNOOkjp0oVSRZXLpeyptGDRqFljjiqbDwfDQ5eTCorMTxjDUKcglbTBDAQM6zbObAxoETXOJP13rJEJka+OqbTb//OExOIx5CJoAOPW3aqTdL6Pr3Y22h0daUp4XJlbc//yru84G7/0XO3Mf5zX52seR2esS1pcCR+bGk1V9LKVvgiOLJftmb8I8QfhSS/LGYvYcoc856T0UYrOPvaiYBgqIBny////Fc3Fworlk1cRcV/x//3M//TOkmo4089f+/iOo+5qIuClhvub3WT46RTiyBwoPXGspAlYRtB1tEli6OLmxlwQOkUVRYTAgeDQXB0cggICwGoacetRVi8l1XSW//OExM0ylDJsAN4Q3UiocMgXgxmEExWcGeiI7UMioDNFgBv5arIlnhiIwRGOXU5XvA3bdQpb+DryuHxl18Qvv3/l1u3fW5oyIJtA96YUQM5I6JAaURPiZsMWU8n0JEarh4+3CdVkbzGiVNkCRpI/5b5/n+fmtV5JJsrn//////+fx3bE1RsRz/X9f//+/LRFxSZ7svVQ0i46XLsfJh1nhqIQ0QBghqQxamnVMlIaNIJgRDjgmBaHQnBWDIjSLyJA//OExLUvhDpwAOPQ3OwjHMQKWUIg5ZyFKMHGmxRUrjQmGUnOMYCpOBhp96YkAItuXoy3sfSv0xrONndvfn/vFx5db9f9b/zjHti7Yt+AjjWVSPGwr2aAKtXSExI/cBY/hx8YgU3LHpuGwVjtaFAYVEVZC//5dXOJvU5P//+nZ1ORVsv//r/MR0dKHso0h6qdbEQqsjh4gkYeKh5mHgqh4PmQadpVlJILFGlDSAQaw4wmHzRVDNdSKJKleodBpiCI//OExKoorDp4ANvK3JCBWYCMFmERQ28+IhOp6dpXmkHbCl1qt11aOftbYZf82/g//f//1//r4zSlF0+eVL6sJE/0IUEI3ksukWPqPDmgOXe7k3F8eDNex+uO2dXQw+Jh5Cv/7Nqy0HC9HVd////1+X////1o1D6kOdXnRWI6TmESmFTDAQxjKyHetTGJabOPU6lZxYSYVBQVQx03KoagERghu3EBkqHUbQihYrEBwdcOczUNr6epvMc3pm+0OzqB//OExLollAp4AOPK3T+ufrMbPrvP//vn/5xTClgIYwRVxBKgbB0rB7tpqmcuz9Z298kbT+7ZK7mxu2G945vYERmZRMVnKY7l9GRiMaiDxcXFApHcrcn///9L//7/t0ztU8wu00jM1UESSqk0giyiFBqlnFu7EZ1Y6CJggYpSznOJvVR5gRWWvchodeQB0grtDAw0bZ15KFqip7LCGpy2LLJtZ1zwpGUtcSRqYzP8vfj6+/r/5984w/S6QVA+jIV5//OExNYm3BJ0ANvK3XY+0PdmQYy0eI9R3okvq4PtjgqaTcFtu5dxcGLLaebcnoEBXJ8QCQ9xdkJI5OUrKtTD1FDCwqpw8PZiXdlRvf17e2vp/v0euqbUcxEY7muqnQQOdkd0QUHogxBcYgkhGId1o/V1Qhx4cIMU5HGoKBygfOCqWyRuKegyFzE1bMQhFkFUhHTo1kUQMEKKfX01OGIfCgKaBL5Wvs0ZhZN3rrUs0sSrhX+f/3+vBgv8R4pKRjjN//OExO0r/BJwANvK3GcJMXg8Rep+VSHKcAdJBA+IgdKoLkjHONDZqbZ5rQFIttqtPhTFhKRhZVMHgMLB0oeUfKVzIIjmodnEg6A4nFxmNVTIzfZOciPsRE///2REvf2RHQisVZYiVWRJS0EjEUaZJhA6iIipRy2cqLVTO4kIs5mQULKgILFIxn/oxiqXI0lsjkJYI+hoBS+Biy0qhEYMLOsUlwiBGLSZuhMHEQDGo/AFXN9GzY4v//ezHf+n/Ld///OExPAu1AJsAOPK3R/feYXLPLjyU7MQadgiG6g5hLQRh41wNinlMGGxhfQiRItS+D3xnqGkl9iX/P17V3cSfB3KR23uhymngGKMEh7MVLldm0o4sEhpxAPDVBnrr/d2tWzIxbf///9PRn0IlCoxxcXHjTjSirMiqaw4WiRRAOGGKZ1dp1VD3Eauwio87iZkKJR8+6LgesIZEQMaH3AJEechBzRTZ/6gAKhYJpIbC4BejAhBQPjFKVgcC2I+81Fq//OExOcvZAJsAN4K3GHM7/2f3SWv/D/3z8P3fvy+ivoC2QN+7zXXKvTECzc2+CunDgViEA3o1My2plS3q+jYqKkVGhUYHB8Ii5EgSd+zv96M5yHjqFmLKRPdH//96Wb////fXomimqv7uyqaWNhNgWY4QGwI2v07/MuioKahSjQL7c/+1WUsIEQZNN6sx0C1BiAdmlhnRPQYLJBMJH/S0MOBtxZQIy2IAWpy05CmL1HDUQnL7vQLrsds7gPmsqGz//OExNwoCzp0AN5Ovf97+9+vHWdSra0CgCy0gqWJzM5Y07smkyRi6nHcsCioBXGUbleNPB9m9EJbewjFrU3WxnIYd6NT7bxmroqujur6O50O5wOqAIg5BZEQWc7/p+l+RndF2//8rFYpB62vXTfShSILiI+ZVNHOLmI6IJOw05UQxHNZSnOYQezGRzTqYaPQ44QG68zxAYqmd1BMegoETev0LnIXCGvLZCAMmAL7RhIKjVIFhIOJnWeUVALXKFqN//OExO4xXDJkAOZK3Zpbd7PCFYY0n/+WH/zeqXDODYFnY8qlIIw9BqCmrEnnsZx5azpOoiYldPuLFZVPvXUwzq4Z0F+tUiuOOFrGrLcceWqun/6oZXIkBZziXU3f//2LLZP//pZ3VByO7Xb/8zMCBhGYSEYrGMCmos6TOyrOiX3LY+QyzHEnKyFq7VfSUJWKzyUp0ESJ9JvjhpDDi9T0AIit7HJ4mAUUjAhFLDoZQ5jQpPGckeoK5NR7OmHLcjLi//OExNsqXDpsAN4E3JvGfX//FFbhgjuCGC4ALrgzr7EqZi/LMMMImk6ycMzA1KtUxmaF8yRvDzDlhPo6u3/G8+fZafpe08UnsEY2YuTenXb+9Emb7I3//XPPWhtkr/3RkY4qSKj7mHkAeG5jv2lT0cxzzzdH3Q8+YYlEZ2KUcmOublkRzyysUSAFlQAIdzwRkDBCpmFAmYOAL8J7iQqUtYQ0BCKVwwmrByM6i6uZZedS1BVLDvJnPCVRim1z/1+t//OExOQq9DpkAOPO3Fvmq9vKpD8ofxDJFVKJQ8aE38jij2yR4BaMXsKDyGpQ40M5HqOvhh0XHuNAcQFihKE0ZnMbW33qllU6KYaHhQBAlM+7zP/6K7OVqf//+tkyp9V7IxmKyhELDpoRDpFkK7WcoxhMjEM4uMfnv2vb9QyH3NS+VnKgiiAAgIIhUTHnTiDAMpmKG8WFzqlQHvw82BgECM2gNpDKE6FwFoX7mYnLZi48u79zPcex7lTW862u9y3W//OExOsr255gAOYKvastwblE30TmOC2aNIay1mHW+h9iMAMjTpZKrOxJ2nXlkslXaLOat2eCSODgVGgmKjQXjQTixh0dQub12VGudqiKgqIkhJGg8WdDfXSjMdn3NHj0P3//p9vte122d1NY6ah1SKTlOLPSzHM7yk8cQTDqllVk7SJM9mRs0EmVc05GTk0UBABmTTIIEhY8DgEcBw0ywGA6OLywhrspjb0Ok+zkYQ2fs7gzLptZ67hRF9wevJ2D//OExO4u85JYAOYOvVExLD3T5lb5247iycXxdq3SSWUsUu5zmAgzuL0aSKxZplprGoEt4jDNAVyvrieWPm+PIvmd/UsiEQcPBB4GD4YxWfoj2dKKYrtdTkfT/01b//2/8u9VWVJTxEtCVagtVSUvWZeQWcNn5grZPsONpioB4cDJiAOJyAQZgcAwNFsw7BwiCwLgWIwMXnG3FaDBMYau27P1UE/mYAZRAi35SUVjO5zip8kB9nITwwDTcYpzI9QM//OExOUoM8pUANvK3Em37Un7K8fpeYqnHaDlZFecybX0m+NAS5lhW4H7g0euo2JmJ9I2NDcmkmW1yYj+OVmg32uYtUmGq//lO+UKCIQgcFQQA94Fkq6uqhU5SnqDU5Ibla5n0pt5if+/qP/iv+/rX+59dZp/btVVOOIuN8cyGnrFyUNSl+2ZogaGgdGr5Y/+qkxBTUWqKg2YmFAlkOSKQcBEhWa8kgoZak3G9A7XZqegp90Robx1hsCWLozObO4m//OExPcx09o8AOvQ3VFCgH6mXbWrFMX14lmVXulYhypdvjSOp3qDElTqEusmHoO5sCCPohiUEYuNiohkD2i1iyx7WzVrSo4k7s63ZG+v465qc9vRY5xWgE3BZuOShuKUwgm1UsGitjdHd/Rv6BEpDW/V0V0zjk6KAxdYv6YMESAjIjgcOxlb60TXoah9yVKYJqJpM3kMBQCTHkrnt2ql46FTE+NFY2fyeUT+62W4sWE9HbJZrzK3xtMTVLWSM3O4//OExN0kKe48ANvWmBKy7hQm2FH21TwFdpqZnzX4K5cawIEbxYFYUXO1kPZtJQYWrXsyqRCVVCyfmXPVsSagfCBAp3qzqYzZyDEPCNW15rMU+KeaPKijYazInEDdg27ib67xvqqQIHX2lko881493pdKl8ZJZnyTujrzK58QeabhjO2fJ5R4hRIiaMCFIQuqTHbpI+2ORmYyxllTOGqazTwSgVPhVlvVfNg4I0itwpZo0s/aRuOUbVgh7HWaJUaU//OExP8xpCocANPM3RDFdmlJSS7zR5q1NvW4pMpHVMd9+sVSB9X5fR80NOL9JFTcN2NS1r/+rXBHCbsWz93KLojlH0BNTxurkws7HQykCOJ1dJryphFR5KjkLQ8vmkUyZAjISUi5CWyGkmQHXDJPGpXVVhckTATGSG7cInlg6RboUThpKOk+NViF9UJKATAtkE6OYG60uPLFagoJbhGZ7lN92amCjT4ASCNFGHQjdxUIkdxI8RaSaKrO1TONSQPO//OExOst3DoYANJM3G+2W6JVlF67GnTpWEq7xG42wcTx5tyZCZPN3PvUUiSayksMtZlv8OcdSqvlWGONBnJ25HDFkkoUL6KhzVhbankY1nSUkchjTEuqMSTyDrTMvpa5LalB07xHy2ISBlqN0zS7Ti6lJ88c1FTGKo1jClKXaVztw5/HhBJtHTJBLZg8gqQN3Gj+9Ylt6F49lM5nKqcEAeUYRoxBxcWEvzdI65FRByexZqcpA8kxd4hdBK0zwtCF//OExOYrbBIYAMGM3RRmSWQLOWeeznJ2hdLOPe/lUVpyU1pcUUvNiCep3zyzFlMgQIvz77wmii2SrzSulmriixqSZiSJJaRqiry1vk3ev/OrI7H0g6R2m1m5Pi2/zbObeGB1Qx5pfy0qTNv290kVlV8gsXFKkVqyVsnrvuFvAcJqOShI7Q2aRqRTkbwu3MKepOw21l/bcRcV3SYiEZYqSE8L1kh5gts3niawMtIUl2kMpF4STWRJtOVWQkzUCcyU//OExOsq3BoUAMGM3CODaFNpWCqb2k3UbMz9ORaeRfUR2ycFMmEolYiBm1rhKBBM4tVlFpEptGko0wuPBHCJIQQPOBiRNEmjatIopJAZGneMqzsg9r3MuabTfuFVPpZLNRqE0f3nDTYWYk1G55MgF7bqaBPUcnUzlkhcOJow7vYcD8kmuAmTqY7lFgEFD9HOcGBa13CtjdlNTG9arXnKqTcVnjJVkdBbEKuMqGONHhUzAiWpZGstFUo1cXzq2NZq//OExPIvxB4IAMJM3XNBJ+MoZTjiVxbnCo18mnS7oqyyKT5qIpFH6bjeWevpn07LQatb39ILNhJsKNIs2JFtxXUdr6JqyW7EzjyceWZqA45jPOLMmtvNtO1PlFs3aov3SBy+65/c36gsjiGzIwjpr1pKpndUiVstLkQasfGMXiyR0Ea6Iki1dScrgMZy7Xw7zdWlq3qKrVjk/SX8pym4aQpoXr9Js0tIkXTKIEkSE/IiRKyW0uhLOEvlBtWO4iaX//OExOYrvDn4AMpM3JtGYNBOJlO0J6mUPmwx5JpZPEngaCiRtuajjKJwqaBjTJA35jGvoCZFoKSUV7m1abOwUgb8ifQlRurTY7Al/8mFpP2iu2vJGDtvUlYdaXxnu0qX02kOjjUdiKNtJh5v77UuY1aiJRmkplAsrNxRmvhqM0WVSRKSvUW2qSuWuX7+u50ed2/LKW/Symr9N3tIjpx9Yuuhn5zIWyO1O9q3p9ooxZCgm99ssKq3s00bEZrtNBrL//OExOosdDnoANpM3KJOaySs5QQHFyyFC+cFLtdnUWgrD1/inYQ2yBNOkioExCDUsx8JlSVURDz0KIzCMuYilZZZh6RIyZIwtAvEK5RzWhRyeFvJpaGHmoppbo4q2eE4OqkiUJRtMal/K5PS7M23eX7yWSvUZZNVbzc7I1lzidUFScLVJyy7SVO/jOZSqpOYW6fXcb1XGbkjFhpkiQuewTCkkaB5oqTPKNClZgiD6hMLaRpkMiMyiTQzptHLCBF0//OExOsrlBHkANpM3SRQfA4o80dKMmow67eGIlLxfZmDlILuymSCRTJKsZeoiiwZizFGsHIs5jDsvLmDLmMOaG0bywqSa7Issp1RRRcq11Agveb5KWKmayQLmiFPdIYcsQ1qo6jj1p1UTjYKodI5mQxHa5ddndktXkYVTpaw/3JCLRlmRWPLJ1yrXwkFi/N19Q3Kfp45j2dpKWbnUQncjUkVDA8MGhuIXTRwJtDkwyaJBYjUX4YapUKRRRtUYbPl//OExO8thDnkANpQ3MYlEwkjKDAr1uLjkXdYhO6msURiuDpLrI2mUkdokMqL5FIq1saucEJZCaJVq6SsNjCXzqJ0vVY5lpi5LwaM58lHat0zymPx7OLsUg1P0pOMinyz7k20U8Q5cFZyTcvBqSbU9zm3kaOkfilRGnjBvE0o2mozRCpGpdypJJI5LFfBFNJVAS0mlFGLGjxbFSkBpc72WWWOExUpp3Opfwv9r1L6Sq0YTXTuAuxahybEDKBpphzZ//OExOwxVDngANpS3MmwXglVrIUU52nVZJiJb1lrGIIzLSU11L97FU/ikWF/2GzPx0ay2XNmHynkEKabW5Br1NLIFTcbtbuLkzZTMirkimu2wyxd2qszNhGNVWImubU0/eCR/Jw0I4ZynMMw/amNb1fbZtzp1PW8KQ3XUllG0Wyf0s7Pd/F7E+2jtm+U0icByr/jvWO6evVw/LXc8bNnKmeCOJrJk5IvGO57wBGHIlkEdYrI3SVcmmbN91TelAQO//OExNkpvDHoANpM3IllIa0aTSo4qnsspsZnmGGiy7rHOgy0kjsyMKKK7DXpt7yaWvXW3O6a4RThzleXg/J1Uln/Ii9jE6xNIvFXtYT5HmW/iPLNe1bd7q724ly04bbrK+tr7ZdMm17D9Ncvf5NL7m7ep095rTFridXyNSPUmXIqwXTTUO0dFdhmGI/FY1IaORS7c7GetW23CYfOlOi8pxC4x3v4ChQliVCoYEQu9WVqrU0dzZLOKHNqphL9XB+3//OExOUoHDnoANmM3MWId6clJMrWR/DYLNr5QtjLMo0ZPAZlUtzIyPBYEgfJBg0mCaFcsFm0djgpMlBQhMKGzKOSoiHyIy0WRFVSx6ItOBUgKsvDWWjN6ykkKUBsQKsLKIgSUErRGxROQplAnJGQoKNdEhMTbYIGTRgnNIGCrxO+hgiFaZAZVQoE1sVOsLtI5vaOjqzZcogWmYSPFyiNClEjRuQqrPm0KULVrcU01NwkIaO0igSjL0kjLIRA8Qhm//OExPc79DnYANvS3DcYsS/G3es7rZU1q1Y3bGEFyKizyaa8FHUfpiw02RGRQdHMU2jMcrWQ8K5KFWWo8ohyUp3caOHGnB8ITjKOaBpMqrhJZoo4kTS9enlHILNlTXWr8TRLftVUy7yi0o3J3Y/fqNaVLwW+q59YlG6c13K3VL7Db9p0aeJdF6JVW85bOR5HLuflVT/Xjc121pmYp29NW1DmtpqDzUte7asTMDF8+BEIku0ALCmLLlfR1XCh9rrx//OExLopfCnkANoM3TzODLIeIjYpODxCwaIVxSWHiFhEqwSnCYhciuDSzSGDSsER0mKmVtyUXK5K6aTZWZlvkqys9j2qsa8FBRIYUFEr0of1gokMKCiW6salSDEGHUjWCgQqrsxqaw1goGJCiYfqTfxlVjbjVWan6k3tBQMSGFKX/+1UKJDJUVzTuokwbKCFSpuWMkpIqSd//7CVFNUxqECyAiAtLxStQxLdPRfDI3Af+BIPir/QyAoHCMUI1DpQ//OExMcpG0ncAMJGvY0bE3NISIQjQ0NkCNh+bFVa6isVLHTqi7D2ZKrLJqThYDRDIyZQwMGCdDI1ZrLKwMFHQyZQwMKCdOWW+Rq1BSoZfksv9luZGrLAVRy//8mUEDBwxKv0/2mj/7TVN/8q+qqkSqSrppppq0sVoq////qr/+VKTEFNRTMuMTAwqqqqqqqqqqqqqqqqqqqqqqqqqqqqqqqqqqqqqqqqqqqqqqqqqqqqqqqqqqqqqqqqqqqqqqqq//OExNUlWrFEAMJGuaqqqqqqqqqqqqqqqqqqqqqqqqqqqqqqqqqqqqqqqqqqqqqqqqqqqqqqqqqqqqqqqqqqqqqqqqqqqqqqqqqqqqqqqqqqqqqqqqqqqqqqqqqqqqqqqqqqqqqqqqqqqqqqqqqqqqqqqqqqqqqqqqqqqqqqqqqqqqqqqqqqqqqqqqqqqqqqqqqqqqqqqqqqqqqqqqqqqqqqqqqqqqqqqqqqqqqqqqqqqqqqqqqqqqqqqqqqqqqq\" type=\"audio/mpeg\" />\n",
              "                    Your browser does not support the audio element.\n",
              "                </audio>\n",
              "              "
            ]
          },
          "metadata": {}
        },
        {
          "output_type": "stream",
          "name": "stdout",
          "text": [
            "Goodbye!\n"
          ]
        },
        {
          "output_type": "error",
          "ename": "SystemExit",
          "evalue": "",
          "traceback": [
            "An exception has occurred, use %tb to see the full traceback.\n",
            "\u001b[0;31mSystemExit\u001b[0m\n"
          ]
        }
      ]
    }
  ],
  "metadata": {
    "colab": {
      "provenance": []
    },
    "kernelspec": {
      "display_name": "Python 3",
      "name": "python3"
    },
    "language_info": {
      "name": "python"
    }
  },
  "nbformat": 4,
  "nbformat_minor": 0
}